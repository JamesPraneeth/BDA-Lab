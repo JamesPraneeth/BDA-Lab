{
 "cells": [
  {
   "cell_type": "markdown",
   "metadata": {},
   "source": [
    "## Q1, Q2, Q3"
   ]
  },
  {
   "cell_type": "code",
   "execution_count": 31,
   "metadata": {},
   "outputs": [
    {
     "name": "stdout",
     "output_type": "stream",
     "text": [
      "+-------+----------------+\n",
      "|integer|squared integers|\n",
      "+-------+----------------+\n",
      "|      1|               1|\n",
      "|      2|               4|\n",
      "|      3|               9|\n",
      "|      4|              16|\n",
      "|      5|              25|\n",
      "+-------+----------------+\n",
      "\n",
      "The maximum number is: 5\n",
      "n: 3\n",
      "The average of the numbers is: 2.0\n"
     ]
    }
   ],
   "source": [
    "#q1\n",
    "from pyspark.sql import SparkSession\n",
    "from pyspark.sql.functions import col\n",
    "\n",
    "spark = SparkSession.builder.appName(\"SquareIntegers\").getOrCreate()\n",
    "\n",
    "data = [(1,), (2,), (3,), (4,), (5,)]\n",
    "columns = [\"integer\"]\n",
    "df = spark.createDataFrame(data, columns)\n",
    "\n",
    "from pyspark.sql.functions import udf\n",
    "from pyspark.sql.types import IntegerType\n",
    "\n",
    "def square_udf(integer):\n",
    "    return integer ** 2\n",
    "\n",
    "square_udf_spark = udf(square_udf, IntegerType())\n",
    "\n",
    "result_df = df.withColumn(\"squared integers\", square_udf_spark(col(\"integer\")))\n",
    "\n",
    "result_df.show()\n",
    "\n",
    "#q2\n",
    "max_number = df.agg({\"integer\": \"max\"}).collect()[0][0]\n",
    "print(f\"The maximum number is: {max_number}\")\n",
    "\n",
    "#q3\n",
    "n = int(input(\"n: \"))\n",
    "average_number = df.limit(n).agg({\"integer\": \"avg\"}).collect()[0][0]\n",
    "print(f\"The average of the numbers is: {average_number}\")\n",
    "\n",
    "spark.stop()"
   ]
  },
  {
   "cell_type": "markdown",
   "metadata": {},
   "source": [
    "## Q4, Q5, Q6"
   ]
  },
  {
   "cell_type": "code",
   "execution_count": 1,
   "metadata": {},
   "outputs": [
    {
     "name": "stderr",
     "output_type": "stream",
     "text": [
      "/home/lplab/anaconda3/lib/python3.7/site-packages/pyspark/context.py:317: FutureWarning: Python 3.7 support is deprecated in Spark 3.4.\n",
      "  warnings.warn(\"Python 3.7 support is deprecated in Spark 3.4.\", FutureWarning)\n"
     ]
    },
    {
     "name": "stdout",
     "output_type": "stream",
     "text": [
      "First few rows of the DataFrame:\n",
      "+------+---+----+\n",
      "|  name|sec|cgpa|\n",
      "+------+---+----+\n",
      "| james|  a| 3.4|\n",
      "|  ruby|  a| 3.2|\n",
      "| diana|  b| 3.8|\n",
      "| chris|  a| 3.9|\n",
      "| louis|  b| 4.2|\n",
      "|  mike|  b| 4.6|\n",
      "|harvey|  a| 4.5|\n",
      "+------+---+----+\n",
      "\n",
      "DataFrame schema:\n",
      "root\n",
      " |-- name: string (nullable = true)\n",
      " |-- sec: string (nullable = true)\n",
      " |-- cgpa: double (nullable = true)\n",
      "\n",
      "Summary statistics for column 'cgpa':\n",
      "+-------+-----------------+\n",
      "|summary|             cgpa|\n",
      "+-------+-----------------+\n",
      "|  count|                7|\n",
      "|   mean|3.942857142857143|\n",
      "| stddev|0.528700113035556|\n",
      "|    min|              3.2|\n",
      "|    max|              4.6|\n",
      "+-------+-----------------+\n",
      "\n"
     ]
    }
   ],
   "source": [
    "#q4\n",
    "from pyspark.sql import SparkSession\n",
    "\n",
    "spark2 = SparkSession.builder.appName(\"ReadCSV\").getOrCreate()\n",
    "\n",
    "file_path = 'names.csv'\n",
    "\n",
    "df = spark2.read.csv(file_path, header=True, inferSchema=True)\n",
    "\n",
    "#q5\n",
    "print(\"First few rows of the DataFrame:\")\n",
    "df.show()\n",
    "\n",
    "print(\"DataFrame schema:\")\n",
    "df.printSchema()\n",
    "\n",
    "#q6\n",
    "selected_column = \"cgpa\"\n",
    "summary_stats = df.describe(selected_column)\n",
    "\n",
    "print(f\"Summary statistics for column '{selected_column}':\")\n",
    "summary_stats.show()\n",
    "\n",
    "spark2.stop()"
   ]
  },
  {
   "cell_type": "code",
   "execution_count": null,
   "metadata": {},
   "outputs": [],
   "source": []
  }
 ],
 "metadata": {
  "kernelspec": {
   "display_name": "Python 3",
   "language": "python",
   "name": "python3"
  },
  "language_info": {
   "codemirror_mode": {
    "name": "ipython",
    "version": 3
   },
   "file_extension": ".py",
   "mimetype": "text/x-python",
   "name": "python",
   "nbconvert_exporter": "python",
   "pygments_lexer": "ipython3",
   "version": "3.7.0"
  }
 },
 "nbformat": 4,
 "nbformat_minor": 2
}
